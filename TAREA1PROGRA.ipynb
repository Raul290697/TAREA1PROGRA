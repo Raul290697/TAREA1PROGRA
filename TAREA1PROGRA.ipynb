{
  "nbformat": 4,
  "nbformat_minor": 0,
  "metadata": {
    "colab": {
      "provenance": [],
      "authorship_tag": "ABX9TyNqEv8T++JCxgkS0H3zb7iS",
      "include_colab_link": true
    },
    "kernelspec": {
      "name": "python3",
      "display_name": "Python 3"
    },
    "language_info": {
      "name": "python"
    }
  },
  "cells": [
    {
      "cell_type": "markdown",
      "metadata": {
        "id": "view-in-github",
        "colab_type": "text"
      },
      "source": [
        "<a href=\"https://colab.research.google.com/github/Raul290697/TAREA1PROGRA/blob/main/TAREA1PROGRA.ipynb\" target=\"_parent\"><img src=\"https://colab.research.google.com/assets/colab-badge.svg\" alt=\"Open In Colab\"/></a>"
      ]
    },
    {
      "cell_type": "code",
      "execution_count": null,
      "metadata": {
        "id": "bBDSCuj_xiEe"
      },
      "outputs": [],
      "source": [
        "\n",
        "#MARTÍNEZ GARDUÑO REGINA Y UGARTE IGLESIAS JOSHUA RAUL\n",
        "# Definimos nuestra expresión regular aritmética como :\" expresión_arit\", así como, nuestra expresión polaca inversa como \"expresión_pol; con el fin de ahorrar tiempo jeje\"\n",
        "\n",
        "# Inicia\n",
        "def registrar_paso(paso, pila_operadores, lista_pol, archivo):  # Se define una función para registrar un paso\n",
        "    \"\"\"Registra el estado actual del proceso en un archivo de texto.\"\"\"  # Docstring con el fin de describir la función\n",
        "    with open(archivo, 'a') as f:  # Se abre el archivo en modo adjuntar\n",
        "        f.write(f\"{paso}\\n\")  # Escribe el paso actual en el archivo\n",
        "        f.write(f\"Pila de operadores: {pila_operadores}\\n\")  # Escribe la pila de operadores en el archivo\n",
        "        f.write(f\"Lista pol: {lista_pol}\\n\")  # Escribe la lista pol en el archivo\n",
        "        f.write(\"=\" * 50 + \"\\n\")  # Escribe una línea para separar\n",
        "\n",
        "def arit_a_pol(expresion_arit, archivo_registro='conversion_pasos.txt'):  # Define una función para convertir de arit a pol\n",
        "    \"\"\"Convierte una expresión arit a notación pol y registra el proceso.\"\"\"  # Docstring para describir dicha función\n",
        "    precedencia = {\"**\": 4, \"*\": 3, \"/\": 3, \"+\": 2, \"-\": 2, \"(\": 1}  # Se define un diccionario para almacenar datos\n",
        "    pila_operadores, lista_pol = [], []  # E inicia la pila de operadores y la lista pol\n",
        "\n",
        "    # Registra la expresión arit\n",
        "    registrar_paso(f\"Expresión arit inicial: {expresion_arit}\",  # Registra la expresión arit\n",
        "                   pila_operadores, lista_pol, archivo_registro)\n",
        "\n",
        "    for token in expresion_arit.split():  # Itera sobre cada token en la expresión arit\n",
        "        if token.isalnum():  # Si el token es un operando, ent\n",
        "            lista_pol.append(token)  # Se agrega a la lista pol\n",
        "            registrar_paso(f\"Se agrega el operando '{token}' a la lista pol.\",  # Ahora, guarda el paso\n",
        "                           pila_operadores, lista_pol, archivo_registro)\n",
        "        elif token == '(':  # Si el token es un paréntesis izquierdo, ent\n",
        "            pila_operadores.append(token)  # Se agrega a la pila de operadores\n",
        "            registrar_paso(f\"Se agrega el paréntesis '{token}' a la pila de operadores.\",  # Y registra el paso\n",
        "                           pila_operadores, lista_pol, archivo_registro)\n",
        "        elif token == ')':  # Si el token es un paréntesis derecho, pero\n",
        "            while pila_operadores[-1] != '(':  # Si la cima de la pila no es un paréntesis izquierdo, ent\n",
        "                lista_pol.append(pila_operadores.pop())  # Saca los operadores de la pila y los agrega a la lista pol\n",
        "                registrar_paso(\"Se agrega operador desde la pila a la lista pol \"  # Y se registra el paso\n",
        "                               \"(hasta encontrar '(').\", pila_operadores, lista_pol, archivo_registro)\n",
        "            pila_operadores.pop()  # Se eliminan los paréntesis izquierdos de la pila\n",
        "            registrar_paso(\"Se elimina el paréntesis de apertura '(' de la pila.\",  # Y se registra el paso\n",
        "                           pila_operadores, lista_pol, archivo_registro)\n",
        "        else:  # Si el token es un operador\n",
        "            while (pila_operadores and  # Si la pila no esté vacía\n",
        "                   precedencia[pila_operadores[-1]] >= precedencia[token]):  # La cima de la pila que tenga mayor o igual precedencia\n",
        "                lista_pol.append(pila_operadores.pop())  # Sacará operadores de la pila y los añadirá a la lista pol, ent\n",
        "                registrar_paso(\"Se compara precedencia y se mueve operador de la pila \"  # Se registra el paso\n",
        "                               \"a la lista pol.\", pila_operadores, lista_pol, archivo_registro)\n",
        "            pila_operadores.append(token)  # Agrega el operador a la pila\n",
        "            registrar_paso(f\"Se agrega el operador '{token}' a la pila de operadores.\",  # Registra el paso\n",
        "                           pila_operadores, lista_pol, archivo_registro)\n",
        "\n",
        "    # Se vacía la pila de operadores al final\n",
        "    while pila_operadores:  # Y si la pila no esté vacía\n",
        "        lista_pol.append(pila_operadores.pop())  # Se saca los operadores de la pila y se agregan a la lista pol\n",
        "        registrar_paso(\"Se vacía la pila de operadores al final.\",  # Ent se registra el paso\n",
        "                       pila_operadores, lista_pol, archivo_registro)\n",
        "\n",
        "    resultado = \" \".join(lista_pol)  # Une la lista pol en una cadena de texto\n",
        "    registrar_paso(f\"Expresión sufija final: {resultado}\",  # Registra la expresión pol final\n",
        "                   pila_operadores, lista_pol, archivo_registro)\n",
        "    return resultado  # Y devuelve la expresión pol final\n",
        "\n",
        "print(\"Antes de inicar el programa, es necesesario el uso de los espacios para que este funcione correctamente, gracias :)\")# Indicaciones extras\n",
        "\n",
        "if __name__ == '__main__':\n",
        "    expresion = input(\"Bom dia,ingresa una expresión regular aritmética:\")  # Queda solicitar a nuestro usuario una expresión en su forma regular aritmética\n",
        "    archivo = 'conversion_pasos.txt'  # Define el nombre del archivo donde se registrarán los pasos\n",
        "    open(archivo, 'w').close()  # Limpia el archivo antes de escribir los pasos\n",
        "    print(arit_a_pol(expresion, archivo))  # Finalmente se imprime la conversión de la expresión regular aritmética a la expresión inversa polaca:)\n",
        "\n",
        "print(\"siok, gracias\")\n"
      ]
    }
  ]
}